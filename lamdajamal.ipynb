{
 "cells": [
  {
   "cell_type": "code",
   "execution_count": 1,
   "id": "66f8b9fe-b866-45df-85a3-1176a4bfcb8b",
   "metadata": {},
   "outputs": [],
   "source": [
    "n = 3\n",
    "p = 2"
   ]
  },
  {
   "cell_type": "code",
   "execution_count": 2,
   "id": "023e0aad-3745-442b-b645-ab8ba7e88e4f",
   "metadata": {},
   "outputs": [],
   "source": [
    "def get_square(n,p):\n",
    "    return n**p"
   ]
  },
  {
   "cell_type": "code",
   "execution_count": 4,
   "id": "c68519c7-fd5a-4f65-9b7c-90acbbe3d40c",
   "metadata": {},
   "outputs": [
    {
     "data": {
      "text/plain": [
       "9"
      ]
     },
     "execution_count": 4,
     "metadata": {},
     "output_type": "execute_result"
    }
   ],
   "source": [
    "get_square(n,p)"
   ]
  },
  {
   "cell_type": "code",
   "execution_count": 5,
   "id": "dbf4e699-e04b-49d8-a886-8d51d27baf1e",
   "metadata": {},
   "outputs": [],
   "source": [
    "a = lambda n ,p : n**p"
   ]
  },
  {
   "cell_type": "code",
   "execution_count": 9,
   "id": "140690ff-e577-4654-bafb-9d20c9d709d3",
   "metadata": {},
   "outputs": [
    {
     "data": {
      "text/plain": [
       "9"
      ]
     },
     "execution_count": 9,
     "metadata": {},
     "output_type": "execute_result"
    }
   ],
   "source": [
    "a(3,2)"
   ]
  },
  {
   "cell_type": "code",
   "execution_count": 10,
   "id": "b996226e-c9b0-4ad7-90bf-945448083e22",
   "metadata": {},
   "outputs": [],
   "source": [
    "add = lambda a,b : a+b"
   ]
  },
  {
   "cell_type": "code",
   "execution_count": 11,
   "id": "c14728d4-c835-4f90-9959-5394059913b5",
   "metadata": {},
   "outputs": [
    {
     "data": {
      "text/plain": [
       "50"
      ]
     },
     "execution_count": 11,
     "metadata": {},
     "output_type": "execute_result"
    }
   ],
   "source": [
    "add(25,25)"
   ]
  },
  {
   "cell_type": "code",
   "execution_count": 12,
   "id": "c63296f4-4b1e-4b0f-9688-0fb4f9393658",
   "metadata": {},
   "outputs": [],
   "source": [
    "c_to_f = lambda c : (9/5)*c + 32"
   ]
  },
  {
   "cell_type": "code",
   "execution_count": 13,
   "id": "0530993e-2c97-4564-8528-5e8b69380e14",
   "metadata": {},
   "outputs": [
    {
     "data": {
      "text/plain": [
       "77.0"
      ]
     },
     "execution_count": 13,
     "metadata": {},
     "output_type": "execute_result"
    }
   ],
   "source": [
    "c_to_f(25)"
   ]
  },
  {
   "cell_type": "code",
   "execution_count": 14,
   "id": "b0acd8d4-4774-4d3f-aaeb-0078ebb02e4d",
   "metadata": {},
   "outputs": [],
   "source": [
    "c_to_f = lambda c : (9/5)*c + 32"
   ]
  },
  {
   "cell_type": "code",
   "execution_count": 15,
   "id": "5e157252-aef3-4911-9e20-1f14ef8871a3",
   "metadata": {},
   "outputs": [
    {
     "data": {
      "text/plain": [
       "87.80000000000001"
      ]
     },
     "execution_count": 15,
     "metadata": {},
     "output_type": "execute_result"
    }
   ],
   "source": [
    "c_to_f(31)"
   ]
  },
  {
   "cell_type": "code",
   "execution_count": 16,
   "id": "079bc556-75d3-4fcd-be55-6c445a3c232a",
   "metadata": {},
   "outputs": [],
   "source": [
    "finding_max = lambda x,y : x if x>y else y"
   ]
  },
  {
   "cell_type": "code",
   "execution_count": 18,
   "id": "fb597e59-e02b-4395-8e6e-88f1de2f6273",
   "metadata": {},
   "outputs": [],
   "source": [
    "maximu = finding_max(12,34)"
   ]
  },
  {
   "cell_type": "code",
   "execution_count": 19,
   "id": "8081e652-7acd-4925-b8da-87e4fd6058da",
   "metadata": {},
   "outputs": [
    {
     "data": {
      "text/plain": [
       "34"
      ]
     },
     "execution_count": 19,
     "metadata": {},
     "output_type": "execute_result"
    }
   ],
   "source": [
    "maximu"
   ]
  },
  {
   "cell_type": "code",
   "execution_count": 20,
   "id": "19008292-99e8-405b-aac7-7465a13293b9",
   "metadata": {},
   "outputs": [],
   "source": [
    "s = \"pwskills\""
   ]
  },
  {
   "cell_type": "code",
   "execution_count": 21,
   "id": "e7534edd-5752-498b-8eb2-f05756338a36",
   "metadata": {},
   "outputs": [],
   "source": [
    "find_len = lambda s : len(s)"
   ]
  },
  {
   "cell_type": "code",
   "execution_count": 22,
   "id": "b1071aaf-6d5d-4738-a1b1-d2edd00eec63",
   "metadata": {},
   "outputs": [
    {
     "data": {
      "text/plain": [
       "8"
      ]
     },
     "execution_count": 22,
     "metadata": {},
     "output_type": "execute_result"
    }
   ],
   "source": [
    "find_len(s)"
   ]
  },
  {
   "cell_type": "code",
   "execution_count": 23,
   "id": "62f56f81-5ce2-4f8b-90cc-7b22100ba590",
   "metadata": {},
   "outputs": [],
   "source": [
    "m = \"mohd_jamal\""
   ]
  },
  {
   "cell_type": "code",
   "execution_count": 24,
   "id": "0cb8e33a-d3f3-4419-80db-62f57403680e",
   "metadata": {},
   "outputs": [],
   "source": [
    "find_len = lambda m : len(m)"
   ]
  },
  {
   "cell_type": "code",
   "execution_count": 25,
   "id": "1b1173af-65f3-4a59-a66e-0f3bf587b29b",
   "metadata": {},
   "outputs": [],
   "source": [
    "l = find_len"
   ]
  },
  {
   "cell_type": "code",
   "execution_count": 26,
   "id": "65db2894-b813-43bd-8b4e-e50070a2a089",
   "metadata": {},
   "outputs": [
    {
     "data": {
      "text/plain": [
       "10"
      ]
     },
     "execution_count": 26,
     "metadata": {},
     "output_type": "execute_result"
    }
   ],
   "source": [
    "l(m)"
   ]
  },
  {
   "cell_type": "code",
   "execution_count": null,
   "id": "88257790-dfe2-41b8-84c4-0d6cd0dc35b9",
   "metadata": {},
   "outputs": [],
   "source": []
  }
 ],
 "metadata": {
  "kernelspec": {
   "display_name": "Python 3 (ipykernel)",
   "language": "python",
   "name": "python3"
  },
  "language_info": {
   "codemirror_mode": {
    "name": "ipython",
    "version": 3
   },
   "file_extension": ".py",
   "mimetype": "text/x-python",
   "name": "python",
   "nbconvert_exporter": "python",
   "pygments_lexer": "ipython3",
   "version": "3.10.8"
  }
 },
 "nbformat": 4,
 "nbformat_minor": 5
}
